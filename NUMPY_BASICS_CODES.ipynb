{
  "cells": [
    {
      "cell_type": "markdown",
      "metadata": {
        "id": "view-in-github",
        "colab_type": "text"
      },
      "source": [
        "<a href=\"https://colab.research.google.com/github/Laxmicharishma2005/FMML_LABS_PROJECS/blob/main/NUMPY_BASICS_CODES.ipynb\" target=\"_parent\"><img src=\"https://colab.research.google.com/assets/colab-badge.svg\" alt=\"Open In Colab\"/></a>"
      ]
    },
    {
      "cell_type": "markdown",
      "id": "486f6384",
      "metadata": {
        "id": "486f6384"
      },
      "source": [
        "# NumPy (Numerical Python) is an open source Python library that’s used in almost every field of science and engineering. It’s the universal standard for working with numerical data in Python,"
      ]
    },
    {
      "cell_type": "code",
      "execution_count": null,
      "id": "7564232a",
      "metadata": {
        "id": "7564232a",
        "outputId": "50b24e44-a2b8-4e1c-c4f9-ddac2be6365c",
        "colab": {
          "base_uri": "https://localhost:8080/"
        }
      },
      "outputs": [
        {
          "output_type": "stream",
          "name": "stdout",
          "text": [
            "Requirement already satisfied: numpy in /usr/local/lib/python3.10/dist-packages (1.23.5)\n"
          ]
        }
      ],
      "source": [
        "pip install numpy"
      ]
    },
    {
      "cell_type": "markdown",
      "id": "b084ded1",
      "metadata": {
        "id": "b084ded1"
      },
      "source": [
        "# import numpy"
      ]
    },
    {
      "cell_type": "code",
      "execution_count": null,
      "id": "7258f07a",
      "metadata": {
        "id": "7258f07a"
      },
      "outputs": [],
      "source": [
        "import numpy as np"
      ]
    },
    {
      "cell_type": "code",
      "execution_count": null,
      "id": "e0884efb",
      "metadata": {
        "id": "e0884efb"
      },
      "outputs": [],
      "source": [
        "a = np.array([1, 2, 3, 4, 5, 6])\n"
      ]
    },
    {
      "cell_type": "code",
      "execution_count": null,
      "id": "64902177",
      "metadata": {
        "id": "64902177"
      },
      "outputs": [],
      "source": [
        "a = np.array([[1, 2, 3, 4], [5, 6, 7, 8], [9, 10, 11, 12]])\n"
      ]
    },
    {
      "cell_type": "code",
      "execution_count": null,
      "id": "8c38c200",
      "metadata": {
        "id": "8c38c200",
        "outputId": "086cc636-9fbf-4adc-9b3d-a8132c993568",
        "colab": {
          "base_uri": "https://localhost:8080/"
        }
      },
      "outputs": [
        {
          "output_type": "stream",
          "name": "stdout",
          "text": [
            "[1 2 3 4]\n"
          ]
        }
      ],
      "source": [
        "print(a[0])\n"
      ]
    },
    {
      "cell_type": "markdown",
      "id": "7a863ec9",
      "metadata": {
        "id": "7a863ec9"
      },
      "source": [
        "# how to create basic array"
      ]
    },
    {
      "cell_type": "code",
      "execution_count": null,
      "id": "5b2e2450",
      "metadata": {
        "id": "5b2e2450"
      },
      "outputs": [],
      "source": [
        "import numpy as np\n",
        "a = np.array([1, 2, 3])\n"
      ]
    },
    {
      "cell_type": "code",
      "execution_count": null,
      "id": "d1c3ca1a",
      "metadata": {
        "id": "d1c3ca1a",
        "outputId": "a1bc0659-9213-4584-e38e-d1acf897f056",
        "colab": {
          "base_uri": "https://localhost:8080/"
        }
      },
      "outputs": [
        {
          "output_type": "execute_result",
          "data": {
            "text/plain": [
              "array([0., 0.])"
            ]
          },
          "metadata": {},
          "execution_count": 7
        }
      ],
      "source": [
        "np.zeros(2)\n"
      ]
    },
    {
      "cell_type": "code",
      "execution_count": null,
      "id": "b1603283",
      "metadata": {
        "id": "b1603283",
        "outputId": "f0610fd2-36d6-4c78-d319-c4fe39536abc",
        "colab": {
          "base_uri": "https://localhost:8080/"
        }
      },
      "outputs": [
        {
          "output_type": "execute_result",
          "data": {
            "text/plain": [
              "array([1., 1.])"
            ]
          },
          "metadata": {},
          "execution_count": 8
        }
      ],
      "source": [
        "np.ones(2)\n"
      ]
    },
    {
      "cell_type": "markdown",
      "id": "26b41921",
      "metadata": {
        "id": "26b41921"
      },
      "source": [
        "ADDING REMOVING,AND SORTING ELEMENTS"
      ]
    },
    {
      "cell_type": "code",
      "execution_count": null,
      "id": "93e9f899",
      "metadata": {
        "id": "93e9f899"
      },
      "outputs": [],
      "source": [
        "arr = np.array([2, 1, 5, 3, 7, 4, 6, 8])"
      ]
    },
    {
      "cell_type": "code",
      "execution_count": null,
      "id": "83980953",
      "metadata": {
        "id": "83980953",
        "outputId": "a96a89a4-71be-4669-e9f1-bda7918f34d8",
        "colab": {
          "base_uri": "https://localhost:8080/"
        }
      },
      "outputs": [
        {
          "output_type": "execute_result",
          "data": {
            "text/plain": [
              "array([1, 2, 3, 4, 5, 6, 7, 8])"
            ]
          },
          "metadata": {},
          "execution_count": 10
        }
      ],
      "source": [
        "np.sort(arr)\n"
      ]
    },
    {
      "cell_type": "code",
      "execution_count": null,
      "id": "ba3a4a5c",
      "metadata": {
        "id": "ba3a4a5c"
      },
      "outputs": [],
      "source": [
        "a = np.array([1, 2, 3, 4])\n",
        "b = np.array([5, 6, 7, 8])\n"
      ]
    },
    {
      "cell_type": "code",
      "execution_count": null,
      "id": "0d6f9f53",
      "metadata": {
        "id": "0d6f9f53",
        "outputId": "fd4e7d42-c93d-41ff-998d-f982b207721e",
        "colab": {
          "base_uri": "https://localhost:8080/"
        }
      },
      "outputs": [
        {
          "output_type": "execute_result",
          "data": {
            "text/plain": [
              "array([1, 2, 3, 4, 5, 6, 7, 8])"
            ]
          },
          "metadata": {},
          "execution_count": 12
        }
      ],
      "source": [
        "np.concatenate((a, b))# ADDIND\n"
      ]
    },
    {
      "cell_type": "markdown",
      "id": "a04b5f2b",
      "metadata": {
        "id": "a04b5f2b"
      },
      "source": [
        "# How do you know the shape and size of an array?\n"
      ]
    },
    {
      "cell_type": "code",
      "execution_count": null,
      "id": "65394440",
      "metadata": {
        "id": "65394440",
        "outputId": "d74fc129-700e-42c1-d68c-3cf6d596cabc",
        "colab": {
          "base_uri": "https://localhost:8080/",
          "height": 140
        }
      },
      "outputs": [
        {
          "output_type": "error",
          "ename": "SyntaxError",
          "evalue": "ignored",
          "traceback": [
            "\u001b[0;36m  File \u001b[0;32m\"<ipython-input-17-2c56028fff50>\"\u001b[0;36m, line \u001b[0;32m1\u001b[0m\n\u001b[0;31m    This  section  covers ndarray.ndim, ndarray.size, ndarray.shape\u001b[0m\n\u001b[0m          ^\u001b[0m\n\u001b[0;31mSyntaxError\u001b[0m\u001b[0;31m:\u001b[0m invalid syntax\n"
          ]
        }
      ],
      "source": [
        "This  section  covers ndarray.ndim, ndarray.size, ndarray.shape\n",
        "ndarray.ndim will tell you the number of axes, or dimensions, of the array.\n",
        "\n",
        "ndarray.size will tell you the total number of elements of the array. This is the product of the elements of the arrays shape.\n",
        "ndarray.shape will display a tuple of integers that indicate the number of elements stored along each dimension of the array. If, for example, you have a 2-D array with 2 rows and 3 columns, the shape of your array is (2, 3).\n",
        "\n",
        "\n",
        "\n"
      ]
    },
    {
      "cell_type": "code",
      "execution_count": null,
      "id": "ad781015",
      "metadata": {
        "id": "ad781015"
      },
      "outputs": [],
      "source": [
        "array_example = np.array([[[0, 1, 2, 3],\n",
        "                           [4, 5, 6, 7]],\n",
        "\n",
        "                          [[0, 1, 2, 3],\n",
        "                           [4, 5, 6, 7]],\n",
        "\n",
        "                          [[0 ,1 ,2, 3],\n",
        "                           [4, 5, 6, 7]]])\n"
      ]
    },
    {
      "cell_type": "code",
      "execution_count": null,
      "id": "7268a3eb",
      "metadata": {
        "id": "7268a3eb",
        "outputId": "41d17700-5d25-4892-d5bb-9d519e1e2887",
        "colab": {
          "base_uri": "https://localhost:8080/"
        }
      },
      "outputs": [
        {
          "output_type": "execute_result",
          "data": {
            "text/plain": [
              "3"
            ]
          },
          "metadata": {},
          "execution_count": 19
        }
      ],
      "source": [
        "array_example.ndim\n"
      ]
    },
    {
      "cell_type": "code",
      "execution_count": null,
      "id": "98ab7373",
      "metadata": {
        "id": "98ab7373",
        "outputId": "9da13343-ce28-4eda-f9b4-b6a40400c050",
        "colab": {
          "base_uri": "https://localhost:8080/"
        }
      },
      "outputs": [
        {
          "output_type": "execute_result",
          "data": {
            "text/plain": [
              "24"
            ]
          },
          "metadata": {},
          "execution_count": 22
        }
      ],
      "source": [
        "array_example.size\n"
      ]
    },
    {
      "cell_type": "code",
      "execution_count": null,
      "id": "3cd651f4",
      "metadata": {
        "id": "3cd651f4",
        "outputId": "e7fce344-73d9-4a68-f1e9-456fe0df39f5",
        "colab": {
          "base_uri": "https://localhost:8080/"
        }
      },
      "outputs": [
        {
          "output_type": "execute_result",
          "data": {
            "text/plain": [
              "(3, 2, 4)"
            ]
          },
          "metadata": {},
          "execution_count": 21
        }
      ],
      "source": [
        "array_example.shape\n",
        "\n"
      ]
    },
    {
      "cell_type": "markdown",
      "id": "b9d7be33",
      "metadata": {
        "id": "b9d7be33"
      },
      "source": [
        "Can you reshape an array?\n",
        "YES"
      ]
    },
    {
      "cell_type": "markdown",
      "id": "27916446",
      "metadata": {
        "id": "27916446"
      },
      "source": [
        "arr.reshape()\n",
        "\n"
      ]
    },
    {
      "cell_type": "code",
      "execution_count": null,
      "id": "4f6e1ac4",
      "metadata": {
        "id": "4f6e1ac4",
        "outputId": "347887ce-0cec-4fe3-b134-240ba52a46f1",
        "colab": {
          "base_uri": "https://localhost:8080/"
        }
      },
      "outputs": [
        {
          "output_type": "stream",
          "name": "stdout",
          "text": [
            "[0 1 2 3 4 5]\n"
          ]
        }
      ],
      "source": [
        "a = np.arange(6)\n",
        "print(a)\n"
      ]
    },
    {
      "cell_type": "code",
      "execution_count": null,
      "id": "020270fe",
      "metadata": {
        "id": "020270fe",
        "outputId": "cef00613-b822-4dc1-dcbd-29035a59b98b"
      },
      "outputs": [
        {
          "name": "stdout",
          "output_type": "stream",
          "text": [
            "[[0 1]\n",
            " [2 3]\n",
            " [4 5]]\n"
          ]
        }
      ],
      "source": [
        "b = a.reshape(3, 2)\n",
        "print(b)\n"
      ]
    },
    {
      "cell_type": "markdown",
      "id": "a92bcc17",
      "metadata": {
        "id": "a92bcc17"
      },
      "source": [
        "INDEXING AND SICILING"
      ]
    },
    {
      "cell_type": "code",
      "execution_count": null,
      "id": "0b936baa",
      "metadata": {
        "id": "0b936baa"
      },
      "outputs": [],
      "source": [
        "data = np.array([1, 2, 3])\n"
      ]
    },
    {
      "cell_type": "code",
      "execution_count": null,
      "id": "5437cf54",
      "metadata": {
        "id": "5437cf54",
        "outputId": "da95a74c-add3-4890-9c9f-10d550f44392"
      },
      "outputs": [
        {
          "data": {
            "text/plain": [
              "2"
            ]
          },
          "execution_count": 17,
          "metadata": {},
          "output_type": "execute_result"
        }
      ],
      "source": [
        "data[1]\n"
      ]
    },
    {
      "cell_type": "code",
      "execution_count": null,
      "id": "93fea9a7",
      "metadata": {
        "id": "93fea9a7",
        "outputId": "02db7316-0125-41c7-c386-be2939476a8c"
      },
      "outputs": [
        {
          "data": {
            "text/plain": [
              "array([1, 2])"
            ]
          },
          "execution_count": 18,
          "metadata": {},
          "output_type": "execute_result"
        }
      ],
      "source": [
        "data[0:2]\n"
      ]
    },
    {
      "cell_type": "code",
      "execution_count": null,
      "id": "546312b9",
      "metadata": {
        "id": "546312b9",
        "outputId": "74a1ebd1-d1fc-4372-a1fd-8eec9dd4b089"
      },
      "outputs": [
        {
          "data": {
            "text/plain": [
              "array([2, 3])"
            ]
          },
          "execution_count": 19,
          "metadata": {},
          "output_type": "execute_result"
        }
      ],
      "source": [
        "data[1:]\n"
      ]
    },
    {
      "cell_type": "code",
      "execution_count": null,
      "id": "92eed516",
      "metadata": {
        "id": "92eed516",
        "outputId": "23600e66-09c6-4321-af99-b2a849da1052"
      },
      "outputs": [
        {
          "data": {
            "text/plain": [
              "array([2, 3])"
            ]
          },
          "execution_count": 20,
          "metadata": {},
          "output_type": "execute_result"
        }
      ],
      "source": [
        "data[-2:]\n"
      ]
    },
    {
      "cell_type": "code",
      "execution_count": null,
      "id": "8fc45876",
      "metadata": {
        "id": "8fc45876",
        "outputId": "005f218b-a423-4a17-f335-391e8a6c0222"
      },
      "outputs": [
        {
          "data": {
            "text/plain": [
              "10"
            ]
          },
          "execution_count": 21,
          "metadata": {},
          "output_type": "execute_result"
        }
      ],
      "source": [
        "a = np.array([1, 2, 3, 4])\n",
        "\n",
        "a.sum()\n"
      ]
    },
    {
      "cell_type": "markdown",
      "id": "00b21311",
      "metadata": {
        "id": "00b21311"
      },
      "source": [
        "# CREATING MATRICES"
      ]
    },
    {
      "cell_type": "code",
      "execution_count": null,
      "id": "368b440f",
      "metadata": {
        "id": "368b440f",
        "outputId": "098cdfc8-68d5-446a-eed2-f119e4342fe1"
      },
      "outputs": [
        {
          "data": {
            "text/plain": [
              "array([[1, 2],\n",
              "       [3, 4],\n",
              "       [5, 6]])"
            ]
          },
          "execution_count": 22,
          "metadata": {},
          "output_type": "execute_result"
        }
      ],
      "source": [
        "data = np.array([[1, 2], [3, 4], [5, 6]])\n",
        "data\n"
      ]
    },
    {
      "cell_type": "markdown",
      "id": "a4595a3e",
      "metadata": {
        "id": "a4595a3e"
      },
      "source": [
        "# HOW TO REVERSE AN ARRAY"
      ]
    },
    {
      "cell_type": "code",
      "execution_count": null,
      "id": "7ae538a1",
      "metadata": {
        "id": "7ae538a1",
        "outputId": "0663a8a3-940e-4337-b32f-ae82ad54ce00"
      },
      "outputs": [
        {
          "name": "stdout",
          "output_type": "stream",
          "text": [
            "Reversed Array:  [8 7 6 5 4 3 2 1]\n"
          ]
        }
      ],
      "source": [
        "arr = np.array([1, 2, 3, 4, 5, 6, 7, 8])\n",
        "reversed_arr = np.flip(arr)\n",
        "print('Reversed Array: ', reversed_arr)\n"
      ]
    },
    {
      "cell_type": "markdown",
      "id": "35bddc71",
      "metadata": {
        "id": "35bddc71"
      },
      "source": [
        "# 2D ARRAY REVERSING"
      ]
    },
    {
      "cell_type": "code",
      "execution_count": null,
      "id": "e704b4e1",
      "metadata": {
        "id": "e704b4e1",
        "outputId": "5457b6e4-2cab-4c87-8bab-282029592784"
      },
      "outputs": [
        {
          "name": "stdout",
          "output_type": "stream",
          "text": [
            "[[12 11 10  9]\n",
            " [ 8  7  6  5]\n",
            " [ 4  3  2  1]]\n"
          ]
        }
      ],
      "source": [
        "arr_2d = np.array([[1, 2, 3, 4], [5, 6, 7, 8], [9, 10, 11, 12]])\n",
        "reversed_arr = np.flip(arr_2d)\n",
        "print(reversed_arr)\n"
      ]
    },
    {
      "cell_type": "code",
      "execution_count": null,
      "id": "ef0bf7a6",
      "metadata": {
        "id": "ef0bf7a6",
        "outputId": "3b809308-baf7-450c-a0bf-516178f672aa"
      },
      "outputs": [
        {
          "name": "stdout",
          "output_type": "stream",
          "text": [
            "[[ 9 10 11 12]\n",
            " [ 5  6  7  8]\n",
            " [ 1  2  3  4]]\n"
          ]
        }
      ],
      "source": [
        "reversed_arr_rows = np.flip(arr_2d, axis=0)\n",
        "print(reversed_arr_rows)\n"
      ]
    },
    {
      "cell_type": "code",
      "execution_count": null,
      "id": "5acb5a50",
      "metadata": {
        "id": "5acb5a50",
        "outputId": "a0437d9a-f1ed-4301-8883-1a8c02178ccd"
      },
      "outputs": [
        {
          "name": "stdout",
          "output_type": "stream",
          "text": [
            "[[ 4  3  2  1]\n",
            " [ 8  7  6  5]\n",
            " [12 11 10  9]]\n"
          ]
        }
      ],
      "source": [
        "reversed_arr_columns = np.flip(arr_2d, axis=1)\n",
        "print(reversed_arr_columns)"
      ]
    },
    {
      "cell_type": "code",
      "execution_count": null,
      "id": "61259ddd",
      "metadata": {
        "id": "61259ddd",
        "outputId": "d993df52-3088-431d-fb10-63893c377011"
      },
      "outputs": [
        {
          "data": {
            "text/plain": [
              "[<matplotlib.lines.Line2D at 0x1f959703590>]"
            ]
          },
          "execution_count": 27,
          "metadata": {},
          "output_type": "execute_result"
        },
        {
          "data": {
            "image/png": "[encoded data removed]",
            "text/plain": [
              "<Figure size 640x480 with 1 Axes>"
            ]
          },
          "metadata": {},
          "output_type": "display_data"
        }
      ],
      "source": [
        "import matplotlib.pyplot as plt\n",
        "x = np.linspace(0, 5, 20)\n",
        "y = np.linspace(0, 10, 20)\n",
        "plt.plot(x, y, 'purple') # line\n",
        "plt.plot(x, y, 'o')      # dots\n"
      ]
    }
  ],
  "metadata": {
    "kernelspec": {
      "display_name": "Python 3 (ipykernel)",
      "language": "python",
      "name": "python3"
    },
    "language_info": {
      "codemirror_mode": {
        "name": "ipython",
        "version": 3
      },
      "file_extension": ".py",
      "mimetype": "text/x-python",
      "name": "python",
      "nbconvert_exporter": "python",
      "pygments_lexer": "ipython3",
      "version": "3.11.4"
    },
    "colab": {
      "provenance": [],
      "include_colab_link": true
    }
  },
  "nbformat": 4,
  "nbformat_minor": 5
}